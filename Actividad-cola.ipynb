{
 "cells": [
  {
   "cell_type": "code",
   "execution_count": 1,
   "metadata": {},
   "outputs": [],
   "source": [
    "#Ejercicio!!!!\n",
    "#Aplicación en la vida real\n",
    "\n",
    "class Deque:\n",
    "    def __init__(self):\n",
    "        self._deque = []\n",
    "\n",
    "    def add_first(self, item):\n",
    "        \"Agregar un elemento a la parte inicial del deque: \"\n",
    "        self._deque.insert(0, item)\n",
    "\n",
    "    def remove_first(self):\n",
    "        \"Remover y retornar un elemento de la parte inicial del deque (cola): \"\n",
    "        if self._deque:\n",
    "            return self._deque.pop(0)\n",
    "        else:\n",
    "            return \"El deque está vacío.\"\n",
    "\n",
    "    def add_last(self, item):\n",
    "        \"Agregar un elemento a la parte final del deque (cola/pila): \"\n",
    "        self._deque.append(item)\n",
    "\n",
    "    def remove_last(self):\n",
    "        \"Remover y retornar un elemento de la parte final del deque (pila): \"\n",
    "        if self._deque:\n",
    "            return self._deque.pop()\n",
    "        else:\n",
    "            return \"El deque está vacío.\"\n",
    "\n"
   ]
  },
  {
   "cell_type": "code",
   "execution_count": 2,
   "metadata": {},
   "outputs": [
    {
     "name": "stdout",
     "output_type": "stream",
     "text": [
      "['Apple', 'Banana', 'Strawberry']\n"
     ]
    }
   ],
   "source": [
    "deque = Deque()\n",
    "deque.add_first(\"Banana\")\n",
    "deque.add_first(\"Apple\")\n",
    "deque.add_first(\"Tomato\")\n",
    "deque.remove_first()\n",
    "deque.add_last(\"Strawberry\")\n",
    "deque.add_last(\"Grapes\")\n",
    "deque.remove_last()\n",
    "print(deque._deque)\n"
   ]
  }
 ],
 "metadata": {
  "kernelspec": {
   "display_name": "Python 3",
   "language": "python",
   "name": "python3"
  },
  "language_info": {
   "codemirror_mode": {
    "name": "ipython",
    "version": 3
   },
   "file_extension": ".py",
   "mimetype": "text/x-python",
   "name": "python",
   "nbconvert_exporter": "python",
   "pygments_lexer": "ipython3",
   "version": "3.12.0"
  }
 },
 "nbformat": 4,
 "nbformat_minor": 2
}
